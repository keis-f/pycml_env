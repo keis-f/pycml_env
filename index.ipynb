{
 "cells": [
  {
   "cell_type": "markdown",
   "metadata": {},
   "source": [
    "# Precipitation analysis from commercial microwave links and the open source software pycomlink: A heavy rain event in South Germany"
   ]
  },
  {
   "cell_type": "markdown",
   "metadata": {},
   "source": [
    "This notebook contains an example of application for pycomlink. The Python based open source software pycomlink is intended to provide an intelligible tool for processing Commercial microwave link (CML) data for meteorological and hydrological purposes. The notebook accompanies the manuscript <b>Precipitation analysis from commercial microwave links and the open source software pycomlink: A heavy rain event in South Germany</b> submitted to Monthly Weather Review and contains the code examples described in the paper."
   ]
  },
  {
   "cell_type": "markdown",
   "metadata": {},
   "source": [
    "The open source library pycomlink and its source code is published under the MIT license and is freely available at https://bitbucket.org/cchwala/pycomlink. It is also registered in the Python Package Index PyPi (https://pypi.python.org/pypi) and can easily be installed and updated with the Python package administration tool pip (https://pypi.python.org/pypi/pip). The latest documentation of pycomlink is published at http://pycomlink.readthedocs.org.<br>\n",
    "pycomlink works with Python 2.7 and depends on numpy, scipy, pandas, matplotlib, cartopy and numba. You can install it via pip, but it is recommended that you install the dependecies first. We recommend the usage of the Anaconda Python distribution for all scientific python packages. <br>\n",
    "The pip command to install pycomlink is the following:<br>\n",
    "<b>$ pip install pycomlink</b>\n"
   ]
  },
  {
   "cell_type": "markdown",
   "metadata": {},
   "source": [
    "After installation we can import the pycomlink module and use the %pylab magic command to plot figures inline the notebook."
   ]
  },
  {
   "cell_type": "code",
   "execution_count": null,
   "metadata": {
    "collapsed": false
   },
   "outputs": [],
   "source": [
    "%pylab inline\n",
    "import pycomlink as pycml"
   ]
  },
  {
   "cell_type": "markdown",
   "metadata": {},
   "source": [
    "The notebook comes with a cmlh5 file containing data from one CML in South Bavaria, Germany. The io functionality of pycomlink allows an easy import of the data. Coding example 1b exemplifies the usage of loading a comlink object from a cmlh5 file (coding example 1a is omitted in this notebook). The reading routine read_from_cmlh5 returns a list of comlink objects, even though there is only one comlink object stored. "
   ]
  },
  {
   "cell_type": "markdown",
   "metadata": {},
   "source": [
    "### Coding example 1b"
   ]
  },
  {
   "cell_type": "code",
   "execution_count": null,
   "metadata": {
    "collapsed": false
   },
   "outputs": [],
   "source": [
    "list_of_cmls = pycml.io.read_from_cmlh5('data/cml.h5')"
   ]
  },
  {
   "cell_type": "markdown",
   "metadata": {},
   "source": [
    "We want to work with the comlink object itself and take it out from the list."
   ]
  },
  {
   "cell_type": "code",
   "execution_count": null,
   "metadata": {
    "collapsed": true
   },
   "outputs": [],
   "source": [
    "cml = list_of_cmls[0]"
   ]
  },
  {
   "cell_type": "markdown",
   "metadata": {},
   "source": [
    "A first look to the data of the comlink object, which is stored as pandas dataframe:"
   ]
  },
  {
   "cell_type": "code",
   "execution_count": null,
   "metadata": {
    "collapsed": false
   },
   "outputs": [],
   "source": [
    "cml.data"
   ]
  },
  {
   "cell_type": "markdown",
   "metadata": {},
   "source": [
    "We can easily plot the data"
   ]
  },
  {
   "cell_type": "code",
   "execution_count": null,
   "metadata": {
    "collapsed": false
   },
   "outputs": [],
   "source": [
    "cml.plot()\n",
    "# If you want to plot the RX (received signal level) and/or the TX (transmitted signal level) values \n",
    "# instead of their difference TXRX try:\n",
    "# cml.plot(['rx','tx'])"
   ]
  },
  {
   "cell_type": "markdown",
   "metadata": {},
   "source": [
    "As the data is stored as pandas dataframe, all the pandas functionalities as preserved. E.g. we can easily resample the series to a different time resolution by"
   ]
  },
  {
   "cell_type": "code",
   "execution_count": null,
   "metadata": {
    "collapsed": false
   },
   "outputs": [],
   "source": [
    "cml.plot(resampling_time='1H') # you can try other periods like 15min, 2h, 1d etc"
   ]
  },
  {
   "cell_type": "markdown",
   "metadata": {},
   "source": [
    "The CML used in this example is operated by the our industry partner Ericsson Germany. For data security reasons the precise location of the CML towers can not be published. The CML is located approx. 25 km southeast of Munich, Germany, in the municapility of Glonn. The metadata of the comlink object is stored as dictionary."
   ]
  },
  {
   "cell_type": "code",
   "execution_count": null,
   "metadata": {
    "collapsed": false
   },
   "outputs": [],
   "source": [
    "cml.metadata"
   ]
  },
  {
   "cell_type": "markdown",
   "metadata": {},
   "source": [
    "Further metadata like frequency, polarization, channel bearing and other information, that are important for processing issues, is stored as dictionary in a seperate object attribute:"
   ]
  },
  {
   "cell_type": "code",
   "execution_count": null,
   "metadata": {
    "collapsed": false
   },
   "outputs": [],
   "source": [
    "cml.tx_rx_pairs"
   ]
  },
  {
   "cell_type": "markdown",
   "metadata": {},
   "source": [
    "To demonstrate the object method <b>info_plot()</b> we define a set of geographic CML tower coordinates (Once again these coordinates don't show the real locations of the CML towers near Glonn).\n"
   ]
  },
  {
   "cell_type": "code",
   "execution_count": null,
   "metadata": {
    "collapsed": false
   },
   "outputs": [],
   "source": [
    "cml.metadata['site_A']['lat'] = 47.90\n",
    "cml.metadata['site_A']['lon'] = 11.90\n",
    "cml.metadata['site_B']['lat'] = 48.00\n",
    "cml.metadata['site_B']['lon'] = 11.80\n",
    "\n",
    "cml.info_plot()"
   ]
  },
  {
   "cell_type": "markdown",
   "metadata": {},
   "source": [
    "## Processing of CML data"
   ]
  },
  {
   "cell_type": "markdown",
   "metadata": {},
   "source": [
    "### Coding example 2a - Wet/dry classification with standard deviation method (Schleiss, 2010)"
   ]
  },
  {
   "cell_type": "code",
   "execution_count": null,
   "metadata": {
    "collapsed": false
   },
   "outputs": [],
   "source": [
    "# Seperate treatment of each channel\n",
    "windows = [255,205] #Length of roliing windows for both channels\n",
    "sigmas = [0.34,0.26] #Threshold value for standard deviation within rolling window\n",
    "for channel,w,s in zip(cml.tx_rx_pairs,windows,sigmas):\n",
    "    #Get the TXRX series as array\n",
    "    txrx = cml.data['txrx_'+channel].values\n",
    "    #Perform wet/dry classification\n",
    "    cml.data['wet_'+channel],info = pycml.wet_dry.wet_dry_std_dev(txrx,\n",
    "                                                                  window_length=w,\n",
    "                                                                  threshold=s)"
   ]
  },
  {
   "cell_type": "markdown",
   "metadata": {},
   "source": [
    "To get a nice plot and to create the upper part of figure 5 of the manuscript, we first import the plotting module seaborn as well as the dates module of matplotlib:"
   ]
  },
  {
   "cell_type": "code",
   "execution_count": null,
   "metadata": {
    "collapsed": false
   },
   "outputs": [],
   "source": [
    "import seaborn as sns\n",
    "import matplotlib.dates as mdates\n",
    "def plot_wet_dry():\n",
    "    fig, ax = subplots(1,1, figsize=(16,2))\n",
    "    sns.set_style(\"dark\")\n",
    "    ax.plot(cml.data['2015-06-06 12:00':'2015-06-08 23:59'].index,cml.data['txrx_channel_1']['2015-06-06 12:00':'2015-06-08 23:59'],color='k')\n",
    "\n",
    "    ax.set_ylabel(r'TXRX / $dB$')\n",
    "    ax2 = ax.twinx()\n",
    "    ax2.fill_between(cml.data['2015-06-06 12:00':'2015-06-08 23:59'].index,0,\n",
    "                     cml.data['wet_channel_1']['2015-06-06 12:00':'2015-06-08 23:59'],alpha=0.2,color='k')\n",
    "    ax2.set_yticklabels([])    "
   ]
  },
  {
   "cell_type": "code",
   "execution_count": null,
   "metadata": {
    "collapsed": false
   },
   "outputs": [],
   "source": [
    "plot_wet_dry()"
   ]
  },
  {
   "cell_type": "markdown",
   "metadata": {},
   "source": [
    "### Coding example 2b - Wet/dry classification with short-time Fast Fourier method (Chwala,2012)"
   ]
  },
  {
   "cell_type": "code",
   "execution_count": null,
   "metadata": {
    "collapsed": false
   },
   "outputs": [],
   "source": [
    "# Seperate treatment of each channel\n",
    "divide_frequencies = [0.5*10e-3,1.0*10e-3] #f_divide for each channel\n",
    "sigmas = [3.5,1.5] #Threshold value for STFT method\n",
    "for channel,s,f in zip(cml.tx_rx_pairs,sigmas,divide_frequencies):\n",
    "    #Get the TXRX series as array\n",
    "    txrx = cml.data['txrx_'+channel].values\n",
    "    #Calculate 10h period with lowest standard deviation\n",
    "    t_dry_start,t_dry_stop = pycml.wet_dry.find_lowest_std_dev_period(txrx,window_length=600)\n",
    "    #Perform wet/dry classification\n",
    "    cml.data['wet_'+channel],info = pycml.wet_dry.wet_dry_stft(txrx,\n",
    "                                                               window_length=256,\n",
    "                                                               threshold=s,\n",
    "                                                               f_divide=f,\n",
    "                                                               t_dry_start=t_dry_start,\n",
    "                                                               t_dry_stop=t_dry_stop,\n",
    "                                                               mirror=False)"
   ]
  },
  {
   "cell_type": "markdown",
   "metadata": {},
   "source": [
    "The wet columns of cml.data get overwritten by repeating the wet/dry classification. The lower part of figure 5 of the manuscript is created by:"
   ]
  },
  {
   "cell_type": "code",
   "execution_count": null,
   "metadata": {
    "collapsed": false
   },
   "outputs": [],
   "source": [
    "plot_wet_dry()"
   ]
  },
  {
   "cell_type": "markdown",
   "metadata": {},
   "source": [
    "### Coding example 2c"
   ]
  },
  {
   "cell_type": "markdown",
   "metadata": {},
   "source": [
    "Wet/dry classification with internal methods for equal treatment of all CML channels."
   ]
  },
  {
   "cell_type": "code",
   "execution_count": null,
   "metadata": {
    "collapsed": false
   },
   "outputs": [],
   "source": [
    "cml.do_wet_dry_classification(method='std_dev',window_length=150,threshold=0.3)\n",
    "plot_wet_dry()"
   ]
  },
  {
   "cell_type": "code",
   "execution_count": null,
   "metadata": {
    "collapsed": false
   },
   "outputs": [],
   "source": [
    "cml.do_wet_dry_classification(method='stft',window_length=256,\n",
    "                                            threshold=1,\n",
    "                                            f_divide=1*10e-3,\n",
    "                                            dry_window_length=600)\n",
    "plot_wet_dry()"
   ]
  },
  {
   "cell_type": "markdown",
   "metadata": {},
   "source": [
    "Coding example 2c is a nice example of the usefulness of a wet/dry classification calibration. By using the \"standard values\" for Fast Fourier method, as derived in the study no precipitating periods would be classified. But by using the lower value for the frequency division, as it is obtained by the performance analysis, the wet periods are classified correctly."
   ]
  },
  {
   "cell_type": "markdown",
   "metadata": {},
   "source": [
    "### Coding example 3"
   ]
  },
  {
   "cell_type": "markdown",
   "metadata": {},
   "source": [
    "As we want to use the result of coding example 2b in the further course of this notebook, we first repeat it at this point to make sure the wet/dry information comes from this approach."
   ]
  },
  {
   "cell_type": "code",
   "execution_count": null,
   "metadata": {
    "collapsed": true
   },
   "outputs": [],
   "source": [
    "# Seperate treatment of each channel\n",
    "divide_frequencies = [0.5*10e-3,1.5*10e-3] #f_divide for each channel\n",
    "sigmas = [3.5,1.0] #Threshold value for STFT method\n",
    "for channel,s,f in zip(cml.tx_rx_pairs,sigmas,divide_frequencies):\n",
    "    #Get the TXRX series as array\n",
    "    txrx = cml.data['txrx_'+channel].values\n",
    "    #Calculate 10h period with lowest standard deviation\n",
    "    t_dry_start,t_dry_stop = pycml.wet_dry.find_lowest_std_dev_period(txrx,window_length=600)\n",
    "    #Perform wet/dry classification\n",
    "    cml.data['wet_'+channel],info = pycml.wet_dry.wet_dry_stft(txrx,\n",
    "                                                               window_length=256,\n",
    "                                                               threshold=s,\n",
    "                                                               f_divide=f,\n",
    "                                                               t_dry_start=t_dry_start,\n",
    "                                                               t_dry_stop=t_dry_stop,\n",
    "                                                               mirror=False)"
   ]
  },
  {
   "cell_type": "markdown",
   "metadata": {},
   "source": [
    "Afterwards we can do the baseline calculation and the wet antenna adjust. You can change the baseline determination method or parameters of the wet antenna adjustment and check how the results shifts. "
   ]
  },
  {
   "cell_type": "code",
   "execution_count": null,
   "metadata": {
    "collapsed": false
   },
   "outputs": [],
   "source": [
    "# Baseline determination\n",
    "cml.do_baseline_determination(method='constant')\n",
    "# Save the baseline for plotting purpose\n",
    "cml.data['baseline_orig'] = cml.data['baseline_channel_1']\n",
    "# Wet antenna adjustement\n",
    "cml.do_wet_antenna_baseline_adjust(waa_max=2,\n",
    "                                   delta_t=1.9,\n",
    "                                   tau=60)\n",
    "####################\n",
    "# Here comes the plot\n",
    "fig, ax = subplots(1,1, figsize=(8,4))\n",
    "ax.plot(cml.data['2015-06-07 23:00':'2015-06-08 08:00'].index,\n",
    "        cml.data['txrx_channel_1']['2015-06-07 23:00':'2015-06-08 08:00'],\n",
    "        color='k',\n",
    "        label='TXRX',\n",
    "        lw=3)\n",
    "ax.plot(cml.data['2015-06-07 23:00':'2015-06-08 08:00'].index,\n",
    "        cml.data['baseline_orig']['2015-06-07 23:00':'2015-06-08 08:00'],\n",
    "        color='r',\n",
    "        label='Baseline',\n",
    "       alpha=0.9)\n",
    "ax.plot(cml.data['2015-06-07 23:00':'2015-06-08 08:00'].index,\n",
    "        cml.data['baseline_channel_1']['2015-06-07 23:00':'2015-06-08 08:00'],\n",
    "        color='g',\n",
    "        label='wet antenna adjustment',\n",
    "       alpha=0.9)\n",
    "legend=plt.legend(shadow=True)\n",
    "for label in legend.get_texts():\n",
    "    label.set_fontsize('large')\n",
    "\n",
    "for label in legend.get_lines():\n",
    "    label.set_linewidth(1.5)  # the legend line width\n",
    "    \n",
    "ax2 = ax.twinx()\n",
    "ax2.fill_between(cml.data['2015-06-07 23:00':'2015-06-08 08:00'].index,0,\n",
    "                 cml.data['wet_channel_1']['2015-06-07 23:00':'2015-06-08 08:00'],alpha=0.1,color='k')\n",
    "ax2.set_yticklabels([])\n",
    "ax.xaxis.set_major_formatter(mdates.DateFormatter('%H:%M'))\n",
    "ax.xaxis.set_major_locator(mdates.HourLocator())\n",
    "ax.set_ylabel(r'TXRX / $dB$')"
   ]
  },
  {
   "cell_type": "markdown",
   "metadata": {},
   "source": [
    "### Coding example 4"
   ]
  },
  {
   "cell_type": "code",
   "execution_count": null,
   "metadata": {
    "collapsed": true
   },
   "outputs": [],
   "source": [
    "cml.calc_A()"
   ]
  },
  {
   "cell_type": "markdown",
   "metadata": {},
   "source": [
    "The method calc_A() calculates the attenuation A [db km^-1]. To be able to deduce the line integrated rain rate, information about the CML length is necessary. The announced length in this notebook isn't th real length of the Glonn CML. The resulting figure might slightly differ from figure 7 because of that. For the manuscript the real coordinates and length have been used."
   ]
  },
  {
   "cell_type": "code",
   "execution_count": null,
   "metadata": {
    "collapsed": false
   },
   "outputs": [],
   "source": [
    "cml.metadata['length_km'] = 4.0"
   ]
  },
  {
   "cell_type": "code",
   "execution_count": null,
   "metadata": {
    "collapsed": false
   },
   "outputs": [],
   "source": [
    "cml.calc_R_from_A()\n",
    "\n",
    "\n",
    "# Here comes the plot\n",
    "fig, ax = subplots(2,1, figsize=(16,4))\n",
    "sns.set_style(\"darkgrid\")\n",
    "ax[0].plot(cml.data['2015-06-06 12:00':'2015-06-08 23:59'].index,\n",
    "           cml.data['R_channel_1']['2015-06-06 12:00':'2015-06-08 23:59'],\n",
    "           color='grey',label='_nolegend_')\n",
    "ax[0].plot(cml.data.resample('60min',label='right').mean()['2015-06-06 12:00':'2015-06-08 23:59'].index,\n",
    "           cml.data['R_channel_1'].resample('60min',label='right').mean()['2015-06-06 12:00':'2015-06-08 23:59'],\n",
    "           color='k',label='CML Glonn')\n",
    "legend=ax[0].legend(shadow=True)\n",
    "for label in legend.get_texts():\n",
    "    label.set_fontsize('large')\n",
    "\n",
    "for label in legend.get_lines():\n",
    "    label.set_linewidth(1.5)  # the legend line width\n",
    "ax[0].set_ylabel(r'Rain rate / $mm h^{-1}$')\n",
    "ax[0].xaxis.set_major_formatter(mdates.DateFormatter('%H'))\n",
    "ax[0].xaxis.set_major_locator(mdates.HourLocator())\n",
    "\n",
    "\n",
    "ax[1].plot(cml.data['2015-06-06 12:00':'2015-06-08 23:59'].resample('60min',label='right').mean().index,\n",
    "           cml.data['R_channel_1'].resample('60min',label='right').mean()['2015-06-06 12:00':'2015-06-08 23:59'].cumsum(),\n",
    "           color='k',label='_nolegend_')\n",
    "\n",
    "ax[1].set_ylabel(r'Rain sum / $mm$')\n",
    "ax[1].xaxis.set_major_formatter(mdates.DateFormatter('%m/%d/%Y'))\n",
    "ax[1].xaxis.set_major_locator(mdates.DayLocator())"
   ]
  },
  {
   "cell_type": "code",
   "execution_count": null,
   "metadata": {
    "collapsed": true
   },
   "outputs": [],
   "source": []
  }
 ],
 "metadata": {
  "kernelspec": {
   "display_name": "Python 2",
   "language": "python",
   "name": "python2"
  },
  "language_info": {
   "codemirror_mode": {
    "name": "ipython",
    "version": 2
   },
   "file_extension": ".py",
   "mimetype": "text/x-python",
   "name": "python",
   "nbconvert_exporter": "python",
   "pygments_lexer": "ipython2",
   "version": "2.7.11"
  }
 },
 "nbformat": 4,
 "nbformat_minor": 0
}
